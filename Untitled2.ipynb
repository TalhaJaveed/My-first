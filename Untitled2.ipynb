{
 "cells": [
  {
   "cell_type": "markdown",
   "id": "093a5726-5683-4ec3-9893-ecf54f243aa0",
   "metadata": {
    "jp-MarkdownHeadingCollapsed": true,
    "tags": []
   },
   "source": [
    "# Title\n",
    "\n",
    "Hrash Weather Data Analysis"
   ]
  },
  {
   "cell_type": "markdown",
   "id": "d1dea748-f635-4681-ac20-17887a00d527",
   "metadata": {
    "tags": []
   },
   "source": [
    "# Introduction\n",
    "\n",
    "In this motebbook we will be finding out causes of harsh weather through data"
   ]
  },
  {
   "cell_type": "markdown",
   "id": "ff42c74a-7666-46c8-9eed-788e8f820b73",
   "metadata": {},
   "source": [
    "# Data Science Lenguages \n",
    "\n",
    "\n",
    "1. Python\n",
    "\n",
    "2. R\n",
    "\n",
    "3. SQL\n",
    "\n",
    "4. Java\n",
    "\n",
    "5. Scala\n",
    "\n",
    "6. Julia\n",
    "\n",
    "7. MATLAB\n",
    "\n",
    "8. JavaScript\n",
    "\n",
    "9. C++\n",
    "\n",
    "10. SAS\n",
    "\n",
    "11. Ruby\n",
    "\n",
    "12. Lisp\n",
    "\n",
    "13. Swift\n",
    "\n",
    "14. Perl\n",
    "\n",
    "15. Haskell\n",
    "\n",
    "16. Rust\n"
   ]
  },
  {
   "cell_type": "markdown",
   "id": "d3db78df-76f8-4a59-a6d6-f4df6a128360",
   "metadata": {},
   "source": [
    "# Data Science Libraries \n",
    "\n",
    "\n",
    "1. TensorFlow\n",
    "\n",
    "2. Pandas\n",
    "\n",
    "3. NumPy\n",
    "\n",
    "4. Matplotlib\n",
    "\n",
    "5. Scikit-learn\n",
    "\n",
    "6. SciPy\n",
    "\n",
    "7. PyTorch\n",
    "\n",
    "8. Keras\n",
    "\n",
    "9. Theano\n",
    "\n",
    "10. Seaborn\n",
    "\n",
    "11. Plotly\n",
    "\n",
    "12. Scrapy\n",
    "\n",
    "13. Beautiful Soup\n"
   ]
  },
  {
   "cell_type": "markdown",
   "id": "571736b7-fd8c-4935-9996-6effbe8bdfb8",
   "metadata": {},
   "source": [
    "# Data Science Tools\n",
    "\n",
    "\n",
    "1. RapidMiner\n",
    "\n",
    "2. Apache Spark\n",
    "\n",
    "3. KNIME\n",
    "\n",
    "4. TensorFlow\n",
    "\n",
    "5. Tableau\n",
    "\n",
    "6. Scikit-learn\n",
    "\n",
    "7. Weka\n",
    "\n",
    "8. Matplotlib\n",
    "\n",
    "9. Python\n",
    "\n",
    "10. SAS\n",
    "\n",
    "11. Pandas\n",
    "\n",
    "12. MATLAB\n",
    "\n",
    "13. Apache Hadoop\n",
    "\n",
    "14. Excel"
   ]
  },
  {
   "cell_type": "markdown",
   "id": "cb3e90a1-980d-421e-81c9-06fbae54a8e0",
   "metadata": {
    "tags": []
   },
   "source": [
    "# Arithmetic Expressions in Jupyter Notebook\n",
    "\n",
    "### Addition\n",
    "```python\n",
    "# Addition\n",
    "result = 10 + 5\n",
    "print(\"10 + 5 =\", result)\n"
   ]
  },
  {
   "cell_type": "code",
   "execution_count": 25,
   "id": "4890c242-3b72-4f1c-963f-50d716fe14b5",
   "metadata": {
    "tags": []
   },
   "outputs": [
    {
     "name": "stdout",
     "output_type": "stream",
     "text": [
      "20 - 8 = 12\n"
     ]
    }
   ],
   "source": [
    "values = 20 - 8\n",
    "print(\"20 - 8 =\", values)\n"
   ]
  },
  {
   "cell_type": "code",
   "execution_count": 19,
   "id": "9d5d29e5-090b-4c37-bc1d-906568e29b32",
   "metadata": {
    "tags": []
   },
   "outputs": [
    {
     "name": "stdout",
     "output_type": "stream",
     "text": [
      "Result values: 14\n"
     ]
    }
   ],
   "source": [
    "def multiply_and_add(a, b, c):\n",
    "    values = (a * b) + c\n",
    "    return values\n",
    "\n",
    "# Example usage\n",
    "num1 = 3\n",
    "num2 = 4\n",
    "num3 = 2\n",
    "output = multiply_and_add(num1, num2, num3)\n",
    "print(\"Result values:\", output)\n"
   ]
  },
  {
   "cell_type": "code",
   "execution_count": 21,
   "id": "1a83279e-4359-4c35-9a1b-5b04742bf845",
   "metadata": {
    "tags": []
   },
   "outputs": [
    {
     "name": "stdout",
     "output_type": "stream",
     "text": [
      "667 mins is equal to 11.116666666666667 hours.\n"
     ]
    }
   ],
   "source": [
    "def convert_mins_to_hours(mins):\n",
    "    hours = mins / 60\n",
    "    return hours\n",
    "\n",
    "# Example usage\n",
    "mins = 667\n",
    "hours = convert_mins_to_hours(mins)\n",
    "print(f\"{mins} mins is equal to {hours} hours.\")\n"
   ]
  },
  {
   "cell_type": "markdown",
   "id": "85e2359b-c929-4598-8082-213c18932c11",
   "metadata": {},
   "source": [
    "# Data Science Project Objectives List\n",
    "\n",
    "\n",
    "1. Certainly, here are the objectives of a data science project without headings:\n",
    "\n",
    "2. Define the problem to be solved and grasp its real-world significance.\n",
    "\n",
    "3. Gather pertinent datasets from diverse sources such as databases, APIs, and web scraping methods.\n",
    "\n",
    "4. Cleanse the collected data, handling missing values, outliers, and inconsistencies.\n",
    "\n",
    "5. Perform exploratory data analysis (EDA) to uncover patterns, correlations, and trends through visualizations.\n",
    "\n",
    "6. Select relevant features and engineer new ones based on domain knowledge.\n",
    "\n",
    "7. Choose suitable machine learning algorithms, train, validate, and optimize models for accuracy.\n",
    "\n",
    "8. Establish appropriate evaluation metrics and assess models using techniques like cross-validation.\n",
    "\n",
    "9. Ensure model interpretability, utilizing methods like feature importance scores and SHAP values.\n",
    "\n",
    "10. Deploy the model into a production environment for real-time predictions.\n",
    "\n",
    "11. Implement monitoring mechanisms to track model performance and develop a maintenance plan.\n",
    "\n",
    "12. Document the entire data science process, from data sources to model selection and findings.\n",
    "\n",
    "13. Gather feedback from users and stakeholders to iteratively enhance the model based on changing requirements."
   ]
  },
  {
   "cell_type": "markdown",
   "id": "69668808-e62f-4d4e-9715-626bc2522d62",
   "metadata": {
    "tags": []
   },
   "source": [
    "# Author Name \n",
    "\n",
    "Muhammad Talha Javed "
   ]
  },
  {
   "cell_type": "code",
   "execution_count": null,
   "id": "da9083e5-4a8b-43dd-a775-387f7b04ad0d",
   "metadata": {},
   "outputs": [],
   "source": []
  },
  {
   "cell_type": "code",
   "execution_count": null,
   "id": "e0a87a70-c578-49ef-8f7e-8efe27c0c6a5",
   "metadata": {},
   "outputs": [],
   "source": []
  },
  {
   "cell_type": "code",
   "execution_count": null,
   "id": "ee7e7b8e-d06d-41ba-ac71-e7f67fc24f96",
   "metadata": {},
   "outputs": [],
   "source": []
  },
  {
   "cell_type": "code",
   "execution_count": null,
   "id": "c2989fab-796b-42c7-a100-4605916fb0e7",
   "metadata": {},
   "outputs": [],
   "source": []
  },
  {
   "cell_type": "code",
   "execution_count": null,
   "id": "b155558c-bc23-4c71-ad8c-e913fd046e75",
   "metadata": {},
   "outputs": [],
   "source": []
  },
  {
   "cell_type": "code",
   "execution_count": null,
   "id": "e307b964-c0fa-4607-af38-1364cbbd0059",
   "metadata": {},
   "outputs": [],
   "source": []
  },
  {
   "cell_type": "code",
   "execution_count": null,
   "id": "686a75cd-d1fe-493a-b181-4279fe6cda2f",
   "metadata": {},
   "outputs": [],
   "source": []
  },
  {
   "cell_type": "code",
   "execution_count": null,
   "id": "a435b114-8cc7-40e7-a672-bf198eb0fe09",
   "metadata": {},
   "outputs": [],
   "source": []
  },
  {
   "cell_type": "code",
   "execution_count": null,
   "id": "bc76cd4c-190a-4e28-85ad-47f31145b4f0",
   "metadata": {},
   "outputs": [],
   "source": []
  },
  {
   "cell_type": "code",
   "execution_count": null,
   "id": "9486eaca-f9bf-4185-8dbb-01bc576515ac",
   "metadata": {},
   "outputs": [],
   "source": []
  },
  {
   "cell_type": "markdown",
   "id": "aa38da16-caa0-4b0e-b6d7-264a18e3f52d",
   "metadata": {},
   "source": [
    "# Objectives List For Data Science Project\n",
    "1. Understand the data's structure, patterns, and relationships through Exploratory Data Analysis (EDA).\n",
    "2. Prepare the data for analysis by handling missing values, outliers, and inconsistencies (Data Cleaning and Preprocessing).\n",
    "3. Identify relevant features and create new features to improve model performance (Feature Selection and Engineering).\n",
    "4. Build and train machine learning models to predict specific outcomes based on historical data (Predictive Modeling).\n",
    "5. Categorize data points into classes or labels based on their features (Classification).\n",
    "6. Predict numerical values based on input variables and establish relationships between variables (Regression).\n",
    "7. Group similar data points together based on their features without using predefined labels (Clustering).\n",
    "8. Analyze and forecast trends, seasonality, and patterns in time-ordered data (Time Series Analysis).\n",
    "9. Identify rare events or outliers in the data that deviate significantly from the norm (Anomaly Detection).\n",
    "10. Process and analyze human language data for tasks like sentiment analysis, text summarization, and language translation (Natural Language Processing - NLP).\n",
    "11. Develop algorithms to suggest items or content to users based on their preferences and behavior (Recommender Systems).\n",
    "12. Design experiments and analyze the results to make data-driven decisions about product features or marketing strategies (A/B Testing and Experimentation).\n",
    "13. Create meaningful visual representations of data to communicate insights effectively (Data Visualization).\n",
    "14. Assess model performance using appropriate metrics and optimize hyperparameters for better results (Model Evaluation and Tuning).\n",
    "15. Implement models into production systems and integrate them with existing workflows or applications (Deployment and Integration).\n",
    "16. Evaluate the impact of data-driven insights or models on business goals and outcomes (Business Impact Analysis).\n",
    "Address\n",
    "\n"
   ]
  },
  {
   "cell_type": "markdown",
   "id": "87ee6cbc-62b9-4d19-828c-87b652fbaac1",
   "metadata": {},
   "source": [
    "# Authors Name \n",
    "\n",
    "Rahim Pardesi\n"
   ]
  },
  {
   "cell_type": "code",
   "execution_count": null,
   "id": "199f1fa8-2087-42a8-9f17-7e88ca87201a",
   "metadata": {},
   "outputs": [],
   "source": []
  }
 ],
 "metadata": {
  "kernelspec": {
   "display_name": "Python",
   "language": "python",
   "name": "conda-env-python-py"
  },
  "language_info": {
   "codemirror_mode": {
    "name": "ipython",
    "version": 3
   },
   "file_extension": ".py",
   "mimetype": "text/x-python",
   "name": "python",
   "nbconvert_exporter": "python",
   "pygments_lexer": "ipython3",
   "version": "3.7.12"
  }
 },
 "nbformat": 4,
 "nbformat_minor": 5
}
